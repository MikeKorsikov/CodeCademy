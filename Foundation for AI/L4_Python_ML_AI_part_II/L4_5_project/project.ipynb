{
 "cells": [
  {
   "cell_type": "code",
   "execution_count": 15,
   "metadata": {},
   "outputs": [
    {
     "name": "stdout",
     "output_type": "stream",
     "text": [
      "True\n",
      "True\n"
     ]
    }
   ],
   "source": [
    "# Task 1\n",
    "# Write your get_y() function here\n",
    "def get_y(m, b, x):\n",
    "    return m * x + b\n",
    "\n",
    "# Test cases\n",
    "print(get_y(1, 0, 7) == 7)\n",
    "print(get_y(5, 10, 3) == 25)"
   ]
  },
  {
   "cell_type": "code",
   "execution_count": 16,
   "metadata": {},
   "outputs": [
    {
     "name": "stdout",
     "output_type": "stream",
     "text": [
      "True\n",
      "True\n",
      "True\n",
      "True\n"
     ]
    }
   ],
   "source": [
    "# Tasks 2-4\n",
    "# Write your calculate_error() function here\n",
    "def calculate_error(m, b, point):\n",
    "    x_point, y_point = point\n",
    "    y_predicted = get_y(m, b, x_point)\n",
    "    return abs(y_predicted - y_point)\n",
    "\n",
    "# Test cases\n",
    "print(calculate_error(1, 0, (3, 3)) == 0)  # Expected: 0\n",
    "print(calculate_error(1, 0, (3, 4)) == 1)  # Expected: 1\n",
    "print(calculate_error(1, -1, (3, 3)) == 1) # Expected: 1\n",
    "print(calculate_error(-1, 1, (3, 3)) == 5) # Expected: 5\n"
   ]
  },
  {
   "cell_type": "code",
   "execution_count": 17,
   "metadata": {},
   "outputs": [
    {
     "name": "stdout",
     "output_type": "stream",
     "text": [
      "True\n",
      "True\n",
      "True\n",
      "True\n"
     ]
    }
   ],
   "source": [
    "# Task 5=7\n",
    "# Write your calculate_all_error() function here\n",
    "def calculate_all_error(m, b, points):\n",
    "    total_error = sum(calculate_error(m, b, point) for point in points)\n",
    "    return total_error\n",
    "\n",
    "# Test cases\n",
    "datapoints = [(1, 1), (3, 3), (5, 5), (-1, -1)]\n",
    "print(calculate_all_error(1, 0, datapoints) == 0)   # Expected: 0\n",
    "print(calculate_all_error(1, 1, datapoints) == 4)   # Expected: 4\n",
    "print(calculate_all_error(1, -1, datapoints) == 4)  # Expected: 4\n",
    "print(calculate_all_error(-1, 1, datapoints) == 18) # Expected: 18"
   ]
  },
  {
   "cell_type": "code",
   "execution_count": 18,
   "metadata": {},
   "outputs": [],
   "source": [
    "# Tasks 8 and 9\n",
    "possible_ms = [i * 0.1 for i in range(-100, 101)]\n",
    "possible_bs = [i * 0.1 for i in range(-200, 201)]\n",
    "\n",
    "#print(possible_ms)\n"
   ]
  },
  {
   "cell_type": "code",
   "execution_count": 19,
   "metadata": {},
   "outputs": [],
   "source": [
    "# Task 10\n",
    "datapoints = [(1, 2), (2, 0), (3, 4), (4, 4), (5, 3)]\n",
    "# Initialize variables to find the best line\n",
    "smallest_error = float(\"inf\")  # Start with infinity so any error found is smaller\n",
    "best_m = 0\n",
    "best_b = 0"
   ]
  },
  {
   "cell_type": "code",
   "execution_count": 20,
   "metadata": {},
   "outputs": [
    {
     "name": "stdout",
     "output_type": "stream",
     "text": [
      "Best m: 0.30000000000000004\n",
      "Best b: 1.7000000000000002\n",
      "Smallest error: 5.0\n"
     ]
    }
   ],
   "source": [
    "# Tasks 11 and 12\n",
    "# Iterate through all possible slopes and intercepts\n",
    "for m in possible_ms:\n",
    "  for b in possible_bs:\n",
    "    error = calculate_all_error(m, b, datapoints)\n",
    "    if error == 0:\n",
    "      best_m, best_b = m, b\n",
    "      break\n",
    "    if error < smallest_error:\n",
    "      best_m = m\n",
    "      best_b = b\n",
    "      smallest_error = error\n",
    "\n",
    "# Print the best parameters\n",
    "print(\"Best m:\", best_m)\n",
    "print(\"Best b:\", best_b)\n",
    "print(\"Smallest error:\", smallest_error)"
   ]
  },
  {
   "cell_type": "code",
   "execution_count": 21,
   "metadata": {},
   "outputs": [
    {
     "name": "stdout",
     "output_type": "stream",
     "text": [
      "Predicted bounce height for 6cm ball: 3.5000000000000004\n"
     ]
    }
   ],
   "source": [
    "# Task 13\n",
    "predicted_bounce = get_y(best_m, best_b, 6)\n",
    "print(\"Predicted bounce height for 6cm ball:\", predicted_bounce)"
   ]
  }
 ],
 "metadata": {
  "kernelspec": {
   "display_name": "Python 3",
   "language": "python",
   "name": "python3"
  },
  "language_info": {
   "codemirror_mode": {
    "name": "ipython",
    "version": 3
   },
   "file_extension": ".py",
   "mimetype": "text/x-python",
   "name": "python",
   "nbconvert_exporter": "python",
   "pygments_lexer": "ipython3",
   "version": "3.12.6"
  }
 },
 "nbformat": 4,
 "nbformat_minor": 2
}
