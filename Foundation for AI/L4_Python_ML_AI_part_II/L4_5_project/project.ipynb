{
 "cells": [
  {
   "cell_type": "code",
   "execution_count": 1,
   "metadata": {},
   "outputs": [
    {
     "name": "stdout",
     "output_type": "stream",
     "text": [
      "True\n",
      "True\n"
     ]
    }
   ],
   "source": [
    "# Task 1\n",
    "# Write your get_y() function here\n",
    "def get_y(m, b, x):\n",
    "    return m * x + b\n",
    "\n",
    "# Test cases\n",
    "print(get_y(1, 0, 7) == 7)\n",
    "print(get_y(5, 10, 3) == 25)"
   ]
  },
  {
   "cell_type": "code",
   "execution_count": null,
   "metadata": {},
   "outputs": [
    {
     "name": "stdout",
     "output_type": "stream",
     "text": [
      "True\n",
      "True\n",
      "True\n",
      "True\n"
     ]
    }
   ],
   "source": [
    "# Tasks 2-4\n",
    "# Write your calculate_error() function here\n",
    "def calculate_error(m, b, point):\n",
    "    x_point, y_point = point\n",
    "    y_predicted = get_y(m, b, x_point)\n",
    "    return abs(y_predicted - y_point)\n",
    "\n",
    "# Test cases\n",
    "print(calculate_error(1, 0, (3, 3)) == 0)  # Expected: 0\n",
    "print(calculate_error(1, 0, (3, 4)) == 1)  # Expected: 1\n",
    "print(calculate_error(1, -1, (3, 3)) == 1) # Expected: 1\n",
    "print(calculate_error(-1, 1, (3, 3)) == 5) # Expected: 5\n"
   ]
  },
  {
   "cell_type": "code",
   "execution_count": null,
   "metadata": {},
   "outputs": [],
   "source": [
    "# Task 5\n",
    "# Write your calculate_all_error() function here\n",
    "def calculate_all_error(m, b, points):\n",
    "    total_error = sum(calculate_error(m, b, point) for point in points)\n",
    "    return total_error\n",
    "\n",
    "# Test cases\n",
    "datapoints = [(1, 1), (3, 3), (5, 5), (-1, -1)]\n",
    "print(calculate_all_error(1, 0, datapoints) == 0)   # Expected: 0\n",
    "print(calculate_all_error(1, 1, datapoints) == 4)   # Expected: 4\n",
    "print(calculate_all_error(1, -1, datapoints) == 4)  # Expected: 4\n",
    "print(calculate_all_error(-1, 1, datapoints) == 18) # Expected: 18"
   ]
  }
 ],
 "metadata": {
  "kernelspec": {
   "display_name": "Python 3",
   "language": "python",
   "name": "python3"
  },
  "language_info": {
   "codemirror_mode": {
    "name": "ipython",
    "version": 3
   },
   "file_extension": ".py",
   "mimetype": "text/x-python",
   "name": "python",
   "nbconvert_exporter": "python",
   "pygments_lexer": "ipython3",
   "version": "3.12.6"
  }
 },
 "nbformat": 4,
 "nbformat_minor": 2
}
