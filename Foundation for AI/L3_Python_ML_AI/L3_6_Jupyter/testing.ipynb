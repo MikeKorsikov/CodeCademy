{
 "cells": [
  {
   "cell_type": "code",
   "execution_count": 4,
   "id": "9cf83e2c-53e7-4fd3-8570-019ccc1fe257",
   "metadata": {},
   "outputs": [],
   "source": [
    "import pandas as pd\n",
    "import numpy as np"
   ]
  },
  {
   "cell_type": "code",
   "execution_count": 5,
   "id": "dd26f25a",
   "metadata": {},
   "outputs": [
    {
     "name": "stdout",
     "output_type": "stream",
     "text": [
      "[('The Two Fridas', 1939), ('My Dress Hangs Here', 1933), ('Tree of Hope', 1946), ('Self Portrait With Monkeys', 1940)]\n",
      "[('The Two Fridas', 1939), ('My Dress Hangs Here', 1933), ('Tree of Hope', 1946), ('Self Portrait With Monkeys', 1940), ('The Broken Column', 1944), ('The Wounded Deer', 1946), ('Me and My Doll', 1937)]\n",
      "7\n",
      "[1, 2, 3, 4, 5, 6, 7]\n",
      "[(1, ('The Two Fridas', 1939)), (2, ('My Dress Hangs Here', 1933)), (3, ('Tree of Hope', 1946)), (4, ('Self Portrait With Monkeys', 1940)), (5, ('The Broken Column', 1944)), (6, ('The Wounded Deer', 1946)), (7, ('Me and My Doll', 1937))]\n"
     ]
    }
   ],
   "source": [
    "# 1. Create the 'paintings' list\n",
    "paintings = ['The Two Fridas', 'My Dress Hangs Here', 'Tree of Hope', 'Self Portrait With Monkeys']\n",
    "\n",
    "# 2. Create the 'dates' list\n",
    "dates = [1939, 1933, 1946, 1940]\n",
    "\n",
    "# 3. Zip the two lists and convert to a list\n",
    "paintings = list(zip(paintings, dates))\n",
    "print(paintings)\n",
    "\n",
    "# 4. Append new paintings and their dates\n",
    "paintings.append(('The Broken Column', 1944))\n",
    "paintings.append(('The Wounded Deer', 1946))\n",
    "paintings.append(('Me and My Doll', 1937))\n",
    "print(paintings)\n",
    "\n",
    "# 5. Find the length of the 'paintings' list\n",
    "num_paintings = len(paintings)\n",
    "print(num_paintings)\n",
    "\n",
    "# 6. Generate a list of identification numbers\n",
    "audio_tour_number = list(range(1, num_paintings + 1))\n",
    "print(audio_tour_number)\n",
    "\n",
    "# 7. Zip the 'audio_tour_number' list to the 'paintings' list\n",
    "master_list = list(zip(audio_tour_number, paintings))\n",
    "\n",
    "# 8. Print the 'master_list'\n",
    "print(master_list)"
   ]
  }
 ],
 "metadata": {
  "kernelspec": {
   "display_name": "Python 3",
   "language": "python",
   "name": "python3"
  },
  "language_info": {
   "codemirror_mode": {
    "name": "ipython",
    "version": 3
   },
   "file_extension": ".py",
   "mimetype": "text/x-python",
   "name": "python",
   "nbconvert_exporter": "python",
   "pygments_lexer": "ipython3",
   "version": "3.12.6"
  }
 },
 "nbformat": 4,
 "nbformat_minor": 5
}
